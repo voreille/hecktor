{
 "cells": [
  {
   "cell_type": "code",
   "execution_count": 2,
   "metadata": {},
   "outputs": [],
   "source": [
    "import pandas as pd\n",
    "import numpy as np"
   ]
  },
  {
   "cell_type": "code",
   "execution_count": 3,
   "metadata": {},
   "outputs": [],
   "source": [
    "n_stage_df = pd.read_csv(\"/home/val/python_wkspce/hecktor/data/hecktor2022/n_stage.csv\")"
   ]
  },
  {
   "cell_type": "code",
   "execution_count": 16,
   "metadata": {},
   "outputs": [
    {
     "data": {
      "text/plain": [
       "array(['N2', 'N2', 'N2', 'N2', 'N2', 'N2', 'N2', 'N1', 'N2', 'N1', 'N1',\n",
       "       'N2', 'N2', 'N0', 'N2', 'N2', 'N2', 'N2', 'N2', 'N3', 'N2', 'N3',\n",
       "       'N2', 'N2', 'N2', 'N2', 'N3', 'N2', 'N2', 'N2', 'N2', 'N2', 'N1',\n",
       "       'N2', 'N2', 'N2', 'N2', 'N1', 'N2', 'N0', 'N0', 'N2', 'N2', 'N2',\n",
       "       'N1', 'N1', 'N3', 'N2', 'N3', 'N2', 'N3', 'N2', 'N1', 'N2', 'N3',\n",
       "       'N0', 'N0', 'N1', 'N2', 'N2', 'N1', 'N0', 'N0', 'N2', 'N2', 'N0',\n",
       "       'N0', 'N2', 'N2', 'N2', 'N0', 'N2', 'N2', 'N0', 'N0', 'N0', 'N2',\n",
       "       'N3', 'N0', 'N2', 'N2', 'N2', 'N2b', 'N2', 'N3', 'N2', 'N0', 'N1',\n",
       "       'N2', 'N2', 'N0', 'N0', 'N2', 'N0', 'N2', 'N0', 'N2', 'N2', 'N2',\n",
       "       'N2', 'N0', 'N0', 'N2', 'N2', 'N2', 'N2', 'N2', 'N2', 'N2', 'N2',\n",
       "       'N2', 'N2', 'N1', 'N2', 'N2', 'N2', 'N0', 'N2', 'N2', 'N2', 'N2',\n",
       "       'N0', 'N2', 'N1', 'N3', 'N2', 'N2', 'N2', '2c', '0', '1', '2C',\n",
       "       '1', '2c', '1', '2b', '1', '2C', '1', '2C', '2C', '2C', '2a', '2',\n",
       "       '2B', '3', '2C', '2C', '2C', '2', '2b', '2b', '0', '2', '1', '1',\n",
       "       '3', '1', '2c', '3', '2c', '0', '2c', '2b', '3', '2a', '2b', '2c',\n",
       "       '1', '1', 'N2b', 'N2b', 'N2b', 'N2b', 'N2b', 'N0', 'N1', 'N2c',\n",
       "       'N2c', 'N1', 'N1', 'N2b', 'N2b', 'N2c', 'N2b', 'N2b', 'N2b', 'N2b',\n",
       "       'N2b', 'N2c', 'N2a', 'N2c', 'N2c', 'N2c', 'N2b', 'N2a', 'N0', 'N3',\n",
       "       'N2a', 'N2b', 'N0', 'N2c', 'N2c', 'N0', 'N2a', 'N2a', 'N2b', 'N1',\n",
       "       'N2b', 'N2b', 'N2c', 'N1', 'N1', 'N2a', 'N2b', 'N3', 'N2c', 'N2b',\n",
       "       'N2b', 'N0', 'N0', 'N2c', 'N2a', 'N0', 'N1', 'N2c', 'N2c', 'N2b',\n",
       "       'N3', 'N0', 'N2b', 'N2b', 'N2c', 'N2b', 'N2b', 'N2c', 'N2c', 'N2b',\n",
       "       'N2c', 'N2b', 'N2b', 'N2b', 'N2c', 'N2b', 'N2a', 'N2c', 'N2b',\n",
       "       'N2b', 'N0', 'N2b', 'N2', 'N2b', 'N2', 'N2', 'N2b', 'N2b', 'N1',\n",
       "       'N2', 'N2b', 'N2', 'N2', 'N2', 'N1', 'N2b', 'N2', 'N0', 'N2',\n",
       "       'N2c', 'N2b', 'N2b', 'N2', 'N2c', 'N2b', 'N1', 'N2', 'N2', 'N2',\n",
       "       'N2', 'N2', 'N2', 'N2b', 'N2', 'N2', 'N2', 'N2b', 'N2', 'N2', 'N2',\n",
       "       'N1', 'N2', 'N1', 'N2c', 'N2c', 'N1', 'N1', 'N3', 'N2b', 'N2',\n",
       "       'N2', 'N2', 'N2', 'N3', 'N3', 'N2', 'N2', 'N2', 'N2', 'N2c', 'N2b',\n",
       "       'N2', 'N2c', 'N2', 'N2', 'N2', 'N2', 'N2', 'N2', 'N2', 'N2', 'N1',\n",
       "       'N2b', 'N2', 'N2', 'N2', 'N2', 'N3', 'N1', 'N2', 'N2', 'N2', 'N2',\n",
       "       'N2', 'N1', 'N2', 'N2', 'N2c', 'N2c', 'N2b', 'N2b', 'N1', 'N2b',\n",
       "       'N1', 'N1', 'N1', 'N1', 'N1', 'N1', 'N2b', 'N1', 'N1', 'N1', 'N1',\n",
       "       'N2b', 'N3', 'N1', 'N1', 'N2b', 'N2b', 'N1', 'N1', 'N1', 'N1',\n",
       "       'N2b', 'N2b', 'N1', 'N2', 'N2', 'N1', 'N1', 'N2', 'N2', 'N2', 'N1',\n",
       "       'N2', 'N2', 'N2', 'N2', 'N1', 'N2', 'N2', 'N2', 'N2', 'N2', 'N2',\n",
       "       'N2', 'N2', 'N0', 'N2', 'N1', 'N2', 'N2', 'N2', 'N2', 'N2', 'N2',\n",
       "       'N2', 'N2', 'N2', 'N2', 'N3', 'N2', 'N2', 'N2', 'N2', 'N2', 'N2',\n",
       "       'N2', 'N2', 'N2', 'N2', 'N1', 'N2', 'N2', 'N2', 'N2', 'N2', 'N3',\n",
       "       'N2', 'N2', 'N2', 'N0', 'N2', 'N2', 'N2', 'N2', 'N2', 'N2', 'N2',\n",
       "       'N2', 'N2', 'N2', 'N2', 'Nx', 'N2', 'N2', 'T3N0M0', 'T4N1M0',\n",
       "       'T3N1M0', 'T4aN2cM1', 'T4N2M1', 'T4N2cM0', 'T4N2M0', 'T4N2cM1',\n",
       "       'T4aN2cM0', 'T2N1M0', 'T2N1M0', 'T4aN3M0', 'T3N1M0', 'T3N2cM0',\n",
       "       'T4N3M0', 'T4N3M0', 'T4aN2bM1', 'T2N1M0', 'T2N2M0', 'T4N2cM0',\n",
       "       'T3N0M0', 'T3N2cM0', 'T2N2M0', 'T3N2cM0', 'T4aN2cM0', 'T3N2bM0',\n",
       "       'T3N2bM0', 'T3N2bM0', 'T2N2bM0', 'T3N2cM0', 'T2N0M0', 'T3N1M0',\n",
       "       'T1N3M0', 'T4aN2bM0', 'T4N0M0', 'T3N0M0', 'T3N2bM0', 'T3N2M0',\n",
       "       'T4aN2cM0', 'T4aN2bM0', 'T3N3M0', 'T2N2bM0', 'T3N2M0', 'T4aN3M0',\n",
       "       'T4bN2cM0', 'T2N0M0', 'T2N1M0', 'T3N2bM0', 'T3N2cM0', 'T4N1M1',\n",
       "       'T4N3M1', 'T2N1M0', 'T4N3M0', 'T2N1M0', 'T3N2cM0', 'T4N3M1',\n",
       "       'T2N2bM0', 'T3N1M0', 'T3N2M0', 'T4N1M0', 'T3N1M0', 'T3N2cM0',\n",
       "       'T3N0M0', 'T3N1M0', 'T2N2bM0', 'T1N3M0', 'T3N2bM0', 'T3N2cM0',\n",
       "       'T3N0M0', 'T4N2cM0', 'T2N3M1', 'T3N2M0', 'T3N2bM0', 'T1N1M0',\n",
       "       'T3N2bM0', 'T3N2cM1'], dtype=object)"
      ]
     },
     "execution_count": 16,
     "metadata": {},
     "output_type": "execute_result"
    }
   ],
   "source": [
    "n_stage_df.n_stage.values"
   ]
  },
  {
   "cell_type": "code",
   "execution_count": 12,
   "metadata": {},
   "outputs": [],
   "source": [
    "def is_n0(x):\n",
    "    return \"n0\" in x.lower() or x == \"0\""
   ]
  },
  {
   "cell_type": "code",
   "execution_count": 43,
   "metadata": {},
   "outputs": [],
   "source": [
    "\n",
    "n_stage_df[\"has_gtvn\"] = n_stage_df.n_stage.map(lambda x: not is_n0(x)).values"
   ]
  },
  {
   "cell_type": "code",
   "execution_count": 44,
   "metadata": {},
   "outputs": [
    {
     "data": {
      "text/html": [
       "<div>\n",
       "<style scoped>\n",
       "    .dataframe tbody tr th:only-of-type {\n",
       "        vertical-align: middle;\n",
       "    }\n",
       "\n",
       "    .dataframe tbody tr th {\n",
       "        vertical-align: top;\n",
       "    }\n",
       "\n",
       "    .dataframe thead th {\n",
       "        text-align: right;\n",
       "    }\n",
       "</style>\n",
       "<table border=\"1\" class=\"dataframe\">\n",
       "  <thead>\n",
       "    <tr style=\"text-align: right;\">\n",
       "      <th></th>\n",
       "      <th>hecktor_id</th>\n",
       "      <th>n_stage</th>\n",
       "      <th>has_gtvn</th>\n",
       "    </tr>\n",
       "  </thead>\n",
       "  <tbody>\n",
       "    <tr>\n",
       "      <th>0</th>\n",
       "      <td>CHUM-001</td>\n",
       "      <td>N2</td>\n",
       "      <td>True</td>\n",
       "    </tr>\n",
       "    <tr>\n",
       "      <th>1</th>\n",
       "      <td>CHUM-002</td>\n",
       "      <td>N2</td>\n",
       "      <td>True</td>\n",
       "    </tr>\n",
       "    <tr>\n",
       "      <th>2</th>\n",
       "      <td>CHUM-006</td>\n",
       "      <td>N2</td>\n",
       "      <td>True</td>\n",
       "    </tr>\n",
       "    <tr>\n",
       "      <th>3</th>\n",
       "      <td>CHUM-007</td>\n",
       "      <td>N2</td>\n",
       "      <td>True</td>\n",
       "    </tr>\n",
       "    <tr>\n",
       "      <th>4</th>\n",
       "      <td>CHUM-008</td>\n",
       "      <td>N2</td>\n",
       "      <td>True</td>\n",
       "    </tr>\n",
       "    <tr>\n",
       "      <th>...</th>\n",
       "      <td>...</td>\n",
       "      <td>...</td>\n",
       "      <td>...</td>\n",
       "    </tr>\n",
       "    <tr>\n",
       "      <th>506</th>\n",
       "      <td>CHUP-071</td>\n",
       "      <td>T3N2M0</td>\n",
       "      <td>True</td>\n",
       "    </tr>\n",
       "    <tr>\n",
       "      <th>507</th>\n",
       "      <td>CHUP-072</td>\n",
       "      <td>T3N2bM0</td>\n",
       "      <td>True</td>\n",
       "    </tr>\n",
       "    <tr>\n",
       "      <th>508</th>\n",
       "      <td>CHUP-073</td>\n",
       "      <td>T1N1M0</td>\n",
       "      <td>True</td>\n",
       "    </tr>\n",
       "    <tr>\n",
       "      <th>509</th>\n",
       "      <td>CHUP-074</td>\n",
       "      <td>T3N2bM0</td>\n",
       "      <td>True</td>\n",
       "    </tr>\n",
       "    <tr>\n",
       "      <th>510</th>\n",
       "      <td>CHUP-075</td>\n",
       "      <td>T3N2cM1</td>\n",
       "      <td>True</td>\n",
       "    </tr>\n",
       "  </tbody>\n",
       "</table>\n",
       "<p>465 rows × 3 columns</p>\n",
       "</div>"
      ],
      "text/plain": [
       "    hecktor_id  n_stage  has_gtvn\n",
       "0     CHUM-001       N2      True\n",
       "1     CHUM-002       N2      True\n",
       "2     CHUM-006       N2      True\n",
       "3     CHUM-007       N2      True\n",
       "4     CHUM-008       N2      True\n",
       "..         ...      ...       ...\n",
       "506   CHUP-071   T3N2M0      True\n",
       "507   CHUP-072  T3N2bM0      True\n",
       "508   CHUP-073   T1N1M0      True\n",
       "509   CHUP-074  T3N2bM0      True\n",
       "510   CHUP-075  T3N2cM1      True\n",
       "\n",
       "[465 rows x 3 columns]"
      ]
     },
     "execution_count": 44,
     "metadata": {},
     "output_type": "execute_result"
    }
   ],
   "source": [
    "n_stage_df[n_stage_df.has_gtvn==True]"
   ]
  },
  {
   "cell_type": "code",
   "execution_count": 45,
   "metadata": {},
   "outputs": [],
   "source": [
    "df = pd.read_csv(\"/home/val/python_wkspce/hecktor/data/hecktor2022/qc_CHUV.csv\")\n",
    "center = \"CHUV\""
   ]
  },
  {
   "cell_type": "code",
   "execution_count": 46,
   "metadata": {},
   "outputs": [],
   "source": [
    "patient_id_with_extracted_gtvn = df.loc[(df.VOI == \"GTVp\"), \"patient_id\"].values\n",
    "\n",
    "patient_id_should_have_gtvn  = n_stage_df.loc[n_stage_df.has_gtvn==True, \"hecktor_id\"].values\n",
    "patient_id_should_have_gtvn = [p for p in patient_id_should_have_gtvn if center in p]"
   ]
  },
  {
   "cell_type": "code",
   "execution_count": 47,
   "metadata": {},
   "outputs": [],
   "source": [
    "missing_gtvn_patients = set(patient_id_should_have_gtvn) - set(patient_id_with_extracted_gtvn)"
   ]
  },
  {
   "cell_type": "code",
   "execution_count": 48,
   "metadata": {},
   "outputs": [
    {
     "data": {
      "text/plain": [
       "set()"
      ]
     },
     "execution_count": 48,
     "metadata": {},
     "output_type": "execute_result"
    }
   ],
   "source": [
    "missing_gtvn_patients"
   ]
  },
  {
   "cell_type": "code",
   "execution_count": 31,
   "metadata": {},
   "outputs": [
    {
     "data": {
      "text/plain": [
       "array(['CHUV-014', 'CHUV-014', 'CHUV-016', 'CHUV-016', 'CHUV-043',\n",
       "       'CHUV-043', 'CHUV-052', 'CHUV-052', 'CHUV-053', 'CHUV-053',\n",
       "       'CHUV-032', 'CHUV-032', 'CHUV-023', 'CHUV-023', 'CHUV-015',\n",
       "       'CHUV-015', 'CHUV-035', 'CHUV-035', 'CHUV-039', 'CHUV-039',\n",
       "       'CHUV-022', 'CHUV-022', 'CHUV-050', 'CHUV-050', 'CHUV-029',\n",
       "       'CHUV-029', 'CHUV-040', 'CHUV-040', 'CHUV-024', 'CHUV-024',\n",
       "       'CHUV-020', 'CHUV-020', 'CHUV-051', 'CHUV-051', 'CHUV-017',\n",
       "       'CHUV-017', 'CHUV-048', 'CHUV-048', 'CHUV-038', 'CHUV-038',\n",
       "       'CHUV-011', 'CHUV-011', 'CHUV-047', 'CHUV-047', 'CHUV-031',\n",
       "       'CHUV-031', 'CHUV-033', 'CHUV-033', 'CHUV-026', 'CHUV-026',\n",
       "       'CHUV-025', 'CHUV-025', 'CHUV-003', 'CHUV-003', 'CHUV-027',\n",
       "       'CHUV-027', 'CHUV-030', 'CHUV-030', 'CHUV-019', 'CHUV-019',\n",
       "       'CHUV-028', 'CHUV-028', 'CHUV-044', 'CHUV-044', 'CHUV-046',\n",
       "       'CHUV-046', 'CHUV-006', 'CHUV-006', 'CHUV-049', 'CHUV-049',\n",
       "       'CHUV-010', 'CHUV-010', 'CHUV-021', 'CHUV-021', 'CHUV-012',\n",
       "       'CHUV-012', 'CHUV-037', 'CHUV-037', 'CHUV-018', 'CHUV-018',\n",
       "       'CHUV-004', 'CHUV-004', 'CHUV-005', 'CHUV-005', 'CHUV-042',\n",
       "       'CHUV-042', 'CHUV-034', 'CHUV-034', 'CHUV-041', 'CHUV-041'],\n",
       "      dtype=object)"
      ]
     },
     "execution_count": 31,
     "metadata": {},
     "output_type": "execute_result"
    }
   ],
   "source": [
    "missing_gtvn_patients = np.setdiff1d(patient_id_with_extracted_gtvnpatient_id.values)"
   ]
  },
  {
   "cell_type": "code",
   "execution_count": null,
   "metadata": {},
   "outputs": [],
   "source": []
  }
 ],
 "metadata": {
  "interpreter": {
   "hash": "ec1352bd9cdc8dad7c9fd99bbc9a971c29ec3e50c209722ab1875d2b557becd0"
  },
  "kernelspec": {
   "display_name": "Python 3.9.7 ('env': venv)",
   "language": "python",
   "name": "python3"
  },
  "language_info": {
   "codemirror_mode": {
    "name": "ipython",
    "version": 3
   },
   "file_extension": ".py",
   "mimetype": "text/x-python",
   "name": "python",
   "nbconvert_exporter": "python",
   "pygments_lexer": "ipython3",
   "version": "3.9.7"
  },
  "orig_nbformat": 4
 },
 "nbformat": 4,
 "nbformat_minor": 2
}
