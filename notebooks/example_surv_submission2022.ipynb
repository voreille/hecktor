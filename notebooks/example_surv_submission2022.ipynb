{
 "cells": [
  {
   "cell_type": "code",
   "execution_count": 1,
   "metadata": {},
   "outputs": [],
   "source": [
    "from pathlib import Path\n",
    "\n",
    "import pandas as pd\n",
    "import numpy as np"
   ]
  },
  {
   "cell_type": "code",
   "execution_count": 5,
   "metadata": {},
   "outputs": [],
   "source": [
    "clinical_info_df = pd.read_csv(\"../data/hecktor2022_testing/hecktor2022_clinical_info_testing.csv\")\n",
    "image_folder = Path(\"../data/hecktor2022_testing/imageTs\").resolve()"
   ]
  },
  {
   "cell_type": "code",
   "execution_count": 6,
   "metadata": {},
   "outputs": [],
   "source": [
    "def dummy_model():\n",
    "    return np.random.uniform()"
   ]
  },
  {
   "cell_type": "code",
   "execution_count": 7,
   "metadata": {},
   "outputs": [],
   "source": [
    "# list only patients that have an image\n",
    "patient_list = [f.name.split(\"__\")[0] for f in image_folder.rglob(\"*__CT.nii.gz\")]"
   ]
  },
  {
   "cell_type": "code",
   "execution_count": 12,
   "metadata": {},
   "outputs": [],
   "source": [
    "# Make your predictions\n",
    "results_df = pd.DataFrame()\n",
    "for i, patient_id in enumerate(patient_list):\n",
    "    # ... Load image\n",
    "    # ... Extract features\n",
    "    # ... Load clinical info e.g. clinical_info_df.loc[p_id, :]\n",
    "\n",
    "    # Compute prediction\n",
    "    pred = dummy_model()\n",
    "\n",
    "    # IMPORTANT the name of the columns must be 'PatientID'\n",
    "    # and 'Prediction'\n",
    "    results_df = pd.concat([\n",
    "        results_df,\n",
    "        pd.DataFrame({\n",
    "            \"PatientID\": patient_id,\n",
    "            \"Prediction\": pred\n",
    "        }, index=[i])\n",
    "    ])\n",
    "\n",
    "# OPTIONNAL remove unnecessary index\n",
    "results_df = results_df.set_index(\"PatientID\")"
   ]
  },
  {
   "cell_type": "code",
   "execution_count": 13,
   "metadata": {},
   "outputs": [],
   "source": [
    "# save predictions\n",
    "results_df.to_csv(\"../data/dummy_survival.csv\")"
   ]
  }
 ],
 "metadata": {
  "kernelspec": {
   "display_name": "Python 3.10.4 ('env': venv)",
   "language": "python",
   "name": "python3"
  },
  "language_info": {
   "codemirror_mode": {
    "name": "ipython",
    "version": 3
   },
   "file_extension": ".py",
   "mimetype": "text/x-python",
   "name": "python",
   "nbconvert_exporter": "python",
   "pygments_lexer": "ipython3",
   "version": "3.10.4"
  },
  "orig_nbformat": 4,
  "vscode": {
   "interpreter": {
    "hash": "ec1352bd9cdc8dad7c9fd99bbc9a971c29ec3e50c209722ab1875d2b557becd0"
   }
  }
 },
 "nbformat": 4,
 "nbformat_minor": 2
}
