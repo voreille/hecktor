{
 "cells": [
  {
   "cell_type": "code",
   "execution_count": null,
   "metadata": {},
   "outputs": [],
   "source": [
    "from pathlib import Path\n",
    "\n",
    "import numpy as np\n",
    "import pandas as pd\n",
    "import SimpleITK as sitk"
   ]
  },
  {
   "cell_type": "code",
   "execution_count": null,
   "metadata": {},
   "outputs": [],
   "source": [
    "prediction_folder = '../data/hecktor2022_testing/predictions'\n",
    "groundtruth_folder = '../data/hecktor2022_testing/labelsTs'"
   ]
  },
  {
   "cell_type": "code",
   "execution_count": null,
   "metadata": {},
   "outputs": [],
   "source": [
    "# List of the files in the validation\n",
    "prediction_files = [f for f in Path(prediction_folder).rglob('*.nii.gz')]\n",
    "\n",
    "# The list is sorted, so it will match the list of ground truth files\n",
    "prediction_files.sort(key=lambda x: x.name.split('.')[0])\n",
    "\n",
    "# List of the patient_id in the validation\n",
    "patient_name_predictions = [f.name.split('.')[0] for f in prediction_files]"
   ]
  },
  {
   "cell_type": "code",
   "execution_count": null,
   "metadata": {},
   "outputs": [],
   "source": [
    "# List of the ground truth files\n",
    "groundtruth_files = [\n",
    "    f for f in Path(groundtruth_folder).rglob('*.nii.gz') if f.name.split('.')[0] in patient_name_predictions\n",
    "]"
   ]
  },
  {
   "cell_type": "code",
   "execution_count": null,
   "metadata": {},
   "outputs": [],
   "source": [
    "def compute_volumes(im):\n",
    "    \"\"\"\n",
    "    Compute the volumes of the GTVp and the GTVn\n",
    "    \"\"\"\n",
    "    spacing = im.GetSpacing()\n",
    "    voxvol = spacing[0] * spacing[1] * spacing[2]\n",
    "    stats = sitk.LabelStatisticsImageFilter()\n",
    "    stats.Execute(im, im)\n",
    "    nvoxels1 = stats.GetCount(1)\n",
    "    nvoxels2 = stats.GetCount(2)\n",
    "    return nvoxels1 * voxvol, nvoxels2 * voxvol\n",
    "\n",
    "\n",
    "def compute_agg_dice(intermediate_results):\n",
    "    \"\"\"\n",
    "    Compute the aggregate dice score from the intermediate results\n",
    "    \"\"\"\n",
    "    aggregate_results = {}\n",
    "    TP1s = [v[\"TP1\"] for v in intermediate_results]\n",
    "    TP2s = [v[\"TP2\"] for v in intermediate_results]\n",
    "    vol_sum1s = [v[\"vol_sum1\"] for v in intermediate_results]\n",
    "    vol_sum2s = [v[\"vol_sum2\"] for v in intermediate_results]\n",
    "    DSCagg1 = 2 * np.sum(TP1s) / np.sum(vol_sum1s)\n",
    "    DSCagg2 = 2 * np.sum(TP2s) / np.sum(vol_sum2s)\n",
    "    aggregate_results['AggregatedDsc'] = {\n",
    "        'GTVp': DSCagg1,\n",
    "        'GTVn': DSCagg2,\n",
    "        'mean': np.mean((DSCagg1, DSCagg2)),\n",
    "    }\n",
    "\n",
    "    return aggregate_results"
   ]
  },
  {
   "cell_type": "code",
   "execution_count": null,
   "metadata": {},
   "outputs": [],
   "source": [
    "def get_intermediate_metrics(groundtruth, prediction):\n",
    "    \"\"\"\n",
    "    Compute intermediate metrics for a given groundtruth and prediction.\n",
    "    These metrics are used to compute the aggregate dice.\n",
    "    \"\"\"\n",
    "    overlap_measures = sitk.LabelOverlapMeasuresImageFilter()\n",
    "    overlap_measures.SetNumberOfThreads(1)\n",
    "    overlap_measures.Execute(groundtruth, prediction)\n",
    "\n",
    "    DSC1 = overlap_measures.GetDiceCoefficient(1)\n",
    "    DSC2 = overlap_measures.GetDiceCoefficient(2)\n",
    "\n",
    "    vol_gt1, vol_gt2 = compute_volumes(groundtruth)\n",
    "    vol_pred1, vol_pred2 = compute_volumes(prediction)\n",
    "\n",
    "    vol_sum1 = vol_gt1 + vol_pred1\n",
    "    vol_sum2 = vol_gt2 + vol_pred2\n",
    "    TP1 = DSC1 * (vol_sum1) / 2\n",
    "    TP2 = DSC2 * (vol_sum2) / 2\n",
    "    return {\n",
    "        \"TP1\": TP1,\n",
    "        \"TP2\": TP2,\n",
    "        \"vol_sum1\": vol_sum1,\n",
    "        \"vol_sum2\": vol_sum2,\n",
    "    }\n"
   ]
  },
  {
   "cell_type": "code",
   "execution_count": null,
   "metadata": {},
   "outputs": [],
   "source": [
    "def resample_prediction(groundtruth, prediction):\n",
    "    \"\"\"\n",
    "    Resample the prediction to the groundtruth physical domain\n",
    "    \"\"\"\n",
    "    resample = sitk.ResampleImageFilter()\n",
    "    resample.SetSize(groundtruth.GetSize())\n",
    "    resample.SetOutputDirection(groundtruth.GetDirection())\n",
    "    resample.SetOutputOrigin(groundtruth.GetOrigin())\n",
    "    resample.SetOutputSpacing(groundtruth.GetSpacing())\n",
    "    resample.SetInterpolator(sitk.sitkNearestNeighbor)\n",
    "    return resample.Execute(prediction) "
   ]
  },
  {
   "cell_type": "code",
   "execution_count": null,
   "metadata": {},
   "outputs": [],
   "source": [
    "def check_prediction(groundtruth, prediction):\n",
    "    \"\"\"\n",
    "    Check if the prediction is valid and apply padding if needed\n",
    "    \"\"\"\n",
    "\n",
    "    # Cast to the same type\n",
    "    caster = sitk.CastImageFilter()\n",
    "    caster.SetOutputPixelType(sitk.sitkUInt8)\n",
    "    caster.SetNumberOfThreads(1)\n",
    "    groundtruth = caster.Execute(groundtruth)\n",
    "    prediction = caster.Execute(prediction)\n",
    "\n",
    "    # Check labels\n",
    "    stats = sitk.LabelStatisticsImageFilter()\n",
    "    stats.Execute(prediction, prediction)\n",
    "    labels = stats.GetLabels()\n",
    "    if not all([l in [0, 1, 2] for l in labels]):\n",
    "        raise RuntimeError(\n",
    "            \"The labels are incorrect. The labels should be background: 0, GTVp: 1, GTVn: 2.\"\n",
    "        )\n",
    "    # Check spacings\n",
    "    if not np.allclose(\n",
    "            groundtruth.GetSpacing(), prediction.GetSpacing(), atol=0.000001):\n",
    "        raise RuntimeError(\n",
    "            \"The resolution of the prediction is different from the CT resolution.\"\n",
    "        )\n",
    "    else:\n",
    "        # to be sure that sitk won't trigger unnecessary errors\n",
    "        prediction.SetSpacing(groundtruth.GetSpacing())\n",
    "\n",
    "    # the resample_prediction is used to crop the prediction to the same size as the groundtruth\n",
    "    return resample_prediction(groundtruth, prediction)"
   ]
  },
  {
   "cell_type": "code",
   "execution_count": null,
   "metadata": {
    "tags": []
   },
   "outputs": [],
   "source": [
    "results = list()\n",
    "for f in prediction_files:\n",
    "    patient_name = f.name.split('.')[0]\n",
    "    gt_file = [k for k in groundtruth_files if k.name[:7] == patient_name][0]\n",
    "\n",
    "    print(f\"Evaluating patient {patient_name}\")\n",
    "\n",
    "    prediction = sitk.ReadImage(str(f.resolve()))\n",
    "    groundtruth = sitk.ReadImage(str(gt_file.resolve()))\n",
    "    prediction = check_prediction(groundtruth, prediction) \n",
    "\n",
    "    results.append(get_intermediate_metrics(groundtruth, prediction))\n",
    "\n"
   ]
  },
  {
   "cell_type": "code",
   "execution_count": null,
   "metadata": {},
   "outputs": [],
   "source": [
    "print(\"The results are:\")\n",
    "print(compute_agg_dice(results))"
   ]
  },
  {
   "cell_type": "code",
   "execution_count": null,
   "metadata": {},
   "outputs": [],
   "source": []
  }
 ],
 "metadata": {
  "kernelspec": {
   "display_name": "Python 3.6.9 ('env': virtualenv)",
   "language": "python",
   "name": "python3"
  },
  "language_info": {
   "codemirror_mode": {
    "name": "ipython",
    "version": 3
   },
   "file_extension": ".py",
   "mimetype": "text/x-python",
   "name": "python",
   "nbconvert_exporter": "python",
   "pygments_lexer": "ipython3",
   "version": "3.6.9"
  },
  "vscode": {
   "interpreter": {
    "hash": "e04a6ea3e974646a9a87efb302eaff47e5d91302f6cfddf6a06ead3843cf3f65"
   }
  }
 },
 "nbformat": 4,
 "nbformat_minor": 2
}
