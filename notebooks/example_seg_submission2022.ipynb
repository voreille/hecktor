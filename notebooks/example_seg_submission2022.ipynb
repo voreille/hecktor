{
 "cells": [
  {
   "cell_type": "markdown",
   "metadata": {},
   "source": [
    "This notebook presents a dummy example of a segmentation pipeline to show what we expect as a submission file.\n",
    "We assume a pipeline where first the images are cropped to a smaller bounding box; then a 3D segmentation model takes as input images resampled at 1 $mm^3$ and that the input shape of the model is \n",
    "[batch_size, x_dim, y_dim, z_dim, channel]. The last dimension (channel) is 2 and represents the CT and PT images.\n",
    "The output image is a binary segmentation whose shape is [batch_size, x_dim, y_dim, z_dim, 1].\n",
    "The final submissions must be expressed in the CT spatial domain (same spacing, origin, size, and direction)."
   ]
  },
  {
   "cell_type": "code",
   "execution_count": null,
   "metadata": {},
   "outputs": [],
   "source": [
    "from pathlib import Path\n",
    "import shutil\n",
    "\n",
    "import numpy as np\n",
    "import pandas as pd\n",
    "import SimpleITK as sitk\n",
    "from tqdm import tqdm"
   ]
  },
  {
   "cell_type": "code",
   "execution_count": null,
   "metadata": {},
   "outputs": [],
   "source": [
    "image_folder = Path(\"../data/hecktor2022_testing/imageTs\").resolve()\n",
    "results_folder = Path(\"../data/dummy_segmentation_results/\").resolve()\n",
    "results_folder.mkdir(exist_ok=True)"
   ]
  },
  {
   "cell_type": "code",
   "execution_count": null,
   "metadata": {},
   "outputs": [],
   "source": [
    "def dummy_model(x):\n",
    "    return np.random.uniform(size=x.shape[:4] + (1, )) * 2\n",
    "    \n",
    "def dummy_cropper(im):\n",
    "    delta_x = np.random.randint(0,100)\n",
    "    delta_y = np.random.randint(0,100)\n",
    "    delta_z = np.random.randint(0,100)\n",
    "    x1 = im.GetOrigin()[0] + delta_x\n",
    "    y1 = im.GetOrigin()[1] + delta_y\n",
    "    z1 = im.GetOrigin()[2] + delta_z\n",
    "    x2 = im.GetOrigin()[0] + delta_x + 144\n",
    "    y2 = im.GetOrigin()[1] + delta_y + 144\n",
    "    z2 = im.GetOrigin()[2] + delta_z + 144\n",
    "    return np.asarray([x1,y1,z1,x2,y2,z2])"
   ]
  },
  {
   "cell_type": "code",
   "execution_count": null,
   "metadata": {},
   "outputs": [],
   "source": [
    "patient_list = [f.name.split(\"__\")[0] for f in image_folder.rglob(\"*__CT.nii.gz\")]"
   ]
  },
  {
   "cell_type": "code",
   "execution_count": null,
   "metadata": {},
   "outputs": [],
   "source": [
    "# Instantiating the resampler\n",
    "resampling_spacing = np.array([1.0, 1.0, 1.0])\n",
    "pre_resampler = sitk.ResampleImageFilter()\n",
    "pre_resampler.SetInterpolator(sitk.sitkBSpline)\n",
    "pre_resampler.SetOutputSpacing(resampling_spacing)\n",
    "\n",
    "post_resampler = sitk.ResampleImageFilter()\n",
    "post_resampler.SetInterpolator(sitk.sitkNearestNeighbor)"
   ]
  },
  {
   "cell_type": "code",
   "execution_count": null,
   "metadata": {},
   "outputs": [],
   "source": [
    "for patient_id in tqdm(patient_list):\n",
    "    # loading the images and storing the ct spacing\n",
    "    image_ct = sitk.ReadImage(str(image_folder / (patient_id + \"__CT.nii.gz\")))\n",
    "    image_pt = sitk.ReadImage(str(image_folder / (patient_id + \"__PT.nii.gz\")))\n",
    "    spacing_ct = image_ct.GetSpacing()\n",
    "    size_ct = image_ct.GetSize()\n",
    "    direction_ct = image_ct.GetDirection()\n",
    "    origin_ct = image_ct.GetOrigin()\n",
    "\n",
    "\n",
    "\n",
    "    # Find the cropping of your images for model training \n",
    "    # (We assume a bounding box [x1,y1, z1, x2, y2, z2])\n",
    "    bb = dummy_cropper(image_ct)\n",
    "\n",
    "    # resampling the images\n",
    "    resampled_size = np.round(\n",
    "        (bb[3:] - bb[:3]) / resampling_spacing).astype(int)\n",
    "    pre_resampler.SetOutputOrigin(bb[:3])\n",
    "    pre_resampler.SetSize([int(k)\n",
    "                           for k in resampled_size])  # sitk requires this\n",
    "    image_ct = pre_resampler.Execute(image_ct)\n",
    "    image_pt = pre_resampler.Execute(image_pt)\n",
    "\n",
    "    # sitk to numpy, sitk stores images with [dim_z, dim_y, dim_x]\n",
    "    array_ct = np.transpose(sitk.GetArrayFromImage(image_ct), (2, 1, 0))\n",
    "    array_pt = np.transpose(sitk.GetArrayFromImage(image_pt), (2, 1, 0))\n",
    "\n",
    "    # ... apply your preprocessing here\n",
    "\n",
    "    x = np.stack([array_ct, array_pt], axis=-1)\n",
    "    x = x[np.newaxis, ...]  # adding batch dimension\n",
    "    segmentation = dummy_model(x)[0, :, :, :, 0]\n",
    "\n",
    "    # do not forget to threshold your output (0: background, 1: GTVp, 2:GTVn)\n",
    "    segmentation = np.round(segmentation).astype(np.uint8)\n",
    "\n",
    "    # numpy to sitk\n",
    "    image_segmentation = sitk.GetImageFromArray(\n",
    "        np.transpose(segmentation, (2, 1, 0)))\n",
    "\n",
    "    # Important: Set the correct origin and spacing \n",
    "    image_segmentation.SetOrigin(bb[:3])\n",
    "    image_segmentation.SetSpacing(resampling_spacing)\n",
    "\n",
    "    # Resample to the original CT resolution.\n",
    "    # You are welcomed to use any fancier interpolation here.\n",
    "    post_resampler.SetSize(size_ct)\n",
    "    post_resampler.SetOutputDirection(direction_ct)\n",
    "    post_resampler.SetOutputOrigin(origin_ct)\n",
    "    post_resampler.SetOutputSpacing(spacing_ct)\n",
    "    image_segmentation = post_resampler.Execute(image_segmentation) \n",
    "\n",
    "\n",
    "    image_segmentation = post_resampler.Execute(image_segmentation)\n",
    "\n",
    "    # Saving the prediction\n",
    "    sitk.WriteImage(\n",
    "        image_segmentation,\n",
    "        str(results_folder / (patient_id + \".nii.gz\")),\n",
    "    )\n"
   ]
  },
  {
   "cell_type": "code",
   "execution_count": null,
   "metadata": {},
   "outputs": [],
   "source": [
    "# zip the folder and it is ready for submission\n",
    "shutil.make_archive(\"../data/dummy_segmentation_submission\", \"zip\", results_folder)"
   ]
  }
 ],
 "metadata": {
  "kernelspec": {
   "display_name": "Python 3.10.4 ('env': venv)",
   "language": "python",
   "name": "python3"
  },
  "language_info": {
   "codemirror_mode": {
    "name": "ipython",
    "version": 3
   },
   "file_extension": ".py",
   "mimetype": "text/x-python",
   "name": "python",
   "nbconvert_exporter": "python",
   "pygments_lexer": "ipython3",
   "version": "3.10.4"
  },
  "orig_nbformat": 4,
  "vscode": {
   "interpreter": {
    "hash": "ec1352bd9cdc8dad7c9fd99bbc9a971c29ec3e50c209722ab1875d2b557becd0"
   }
  }
 },
 "nbformat": 4,
 "nbformat_minor": 2
}
